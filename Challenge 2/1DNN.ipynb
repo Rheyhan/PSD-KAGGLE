{
 "cells": [
  {
   "cell_type": "code",
   "execution_count": 1,
   "metadata": {},
   "outputs": [],
   "source": [
    "#load up modules\n",
    "import pandas as pd\n",
    "import numpy as np\n",
    "import matplotlib.pyplot as plt \n",
    "\n",
    "import pickle\n",
    "import os\n",
    "\n",
    "import category_encoders as ce\n",
    "\n",
    "from sklearn.metrics import r2_score\n",
    "from sklearn.model_selection import train_test_split\n",
    "\n",
    "from tqdm.notebook import tqdm\n",
    "\n",
    "\n",
    "import tensorflow as tf\n",
    "from tensorflow import keras\n",
    "from keras import layers"
   ]
  },
  {
   "cell_type": "code",
   "execution_count": 2,
   "metadata": {},
   "outputs": [],
   "source": [
    "#Get dir\n",
    "path=\"D:/Kuliah/Semester 5/PSD/psd-challenge/Kerja lah su/Challenge 2/\"\n",
    "os.listdir(path)\n",
    "\n",
    "def savefile(result, savename):\n",
    "    try:\n",
    "        pd.DataFrame(zip(range(1,len(result)+1),result), columns=[\"No\", \"UHH\"]).to_csv(path+savename+\".csv\", index=False)\n",
    "    except:\n",
    "        print(\"It only saves the result retard!\")"
   ]
  },
  {
   "cell_type": "code",
   "execution_count": 3,
   "metadata": {},
   "outputs": [],
   "source": [
    "#Get dataset                                #Gw baru nyadar train di split lagi?\n",
    "test_data=pd.read_excel(path+\"Data/Data Test.xlsx\")\n",
    "train=pd.read_excel(path+\"Data/Data Train.xlsx\")"
   ]
  },
  {
   "cell_type": "code",
   "execution_count": 4,
   "metadata": {},
   "outputs": [],
   "source": [
    "X=train.iloc[:,:-1]\n",
    "y=train.iloc[:,-1]"
   ]
  },
  {
   "cell_type": "code",
   "execution_count": 5,
   "metadata": {},
   "outputs": [],
   "source": [
    "def rsq_plot(history):\n",
    "  plt.plot(history.history['r2score'], label='r2score')\n",
    "  plt.plot(history.history[\"val_r2score\"], label='val_r2score')\n",
    "  plt.ylim([0, 1])\n",
    "  plt.xlabel('Epoch')\n",
    "  plt.ylabel('rsq')\n",
    "  plt.legend()\n",
    "  plt.grid(True)"
   ]
  },
  {
   "cell_type": "code",
   "execution_count": 6,
   "metadata": {},
   "outputs": [],
   "source": [
    "def r2score(y_true, y_pred):\n",
    "    SS_res =  keras.backend.sum(keras.backend.square( y_true-y_pred ))\n",
    "    SS_tot = keras.backend.sum(keras.backend.square(y_true - keras.backend.mean(y_true)))\n",
    "    return (1 - (SS_res/SS_tot))"
   ]
  },
  {
   "cell_type": "code",
   "execution_count": 7,
   "metadata": {},
   "outputs": [],
   "source": [
    "def build_and_compile_model(norm):\n",
    "  model = keras.Sequential([\n",
    "      norm,\n",
    "      layers.Dense(16, kernel_initializer='normal', activation='relu'),\n",
    "      layers.Dense(32, kernel_initializer='normal', activation='relu'),\n",
    "      layers.Dense(64, kernel_initializer='normal', activation='relu'),\n",
    "      layers.Dense(1, kernel_initializer='normal')\n",
    "  ])\n",
    "\n",
    "  model.compile(loss='mean_absolute_percentage_error',\n",
    "                optimizer=tf.keras.optimizers.Adam(), metrics=r2score)\n",
    "  return model"
   ]
  },
  {
   "cell_type": "code",
   "execution_count": 15,
   "metadata": {},
   "outputs": [
    {
     "name": "stdout",
     "output_type": "stream",
     "text": [
      "Epoch 1/16\n",
      "286/286 [==============================] - 2s 2ms/step - loss: 45.9201 - r2score: -15.0366 - val_loss: 14.1667 - val_r2score: -0.2145\n",
      "Epoch 2/16\n",
      "286/286 [==============================] - 0s 2ms/step - loss: 12.5343 - r2score: -0.0047 - val_loss: 12.7889 - val_r2score: -0.0105\n",
      "Epoch 3/16\n",
      "286/286 [==============================] - 1s 2ms/step - loss: 11.9873 - r2score: 0.0866 - val_loss: 12.2098 - val_r2score: 0.0963\n",
      "Epoch 4/16\n",
      "286/286 [==============================] - 0s 2ms/step - loss: 11.8071 - r2score: 0.1100 - val_loss: 11.9938 - val_r2score: 0.1198\n",
      "Epoch 5/16\n",
      "286/286 [==============================] - 1s 2ms/step - loss: 11.6929 - r2score: 0.1256 - val_loss: 12.1205 - val_r2score: 0.1616\n",
      "Epoch 6/16\n",
      "286/286 [==============================] - 0s 1ms/step - loss: 11.6063 - r2score: 0.1405 - val_loss: 11.8590 - val_r2score: 0.1460\n",
      "Epoch 7/16\n",
      "286/286 [==============================] - 0s 2ms/step - loss: 11.5192 - r2score: 0.1563 - val_loss: 11.7105 - val_r2score: 0.1848\n",
      "Epoch 8/16\n",
      "286/286 [==============================] - 1s 2ms/step - loss: 11.4206 - r2score: 0.1614 - val_loss: 11.7244 - val_r2score: 0.1540\n",
      "Epoch 9/16\n",
      "286/286 [==============================] - 0s 2ms/step - loss: 11.3741 - r2score: 0.1765 - val_loss: 11.8509 - val_r2score: 0.1206\n",
      "Epoch 10/16\n",
      "286/286 [==============================] - 1s 2ms/step - loss: 11.3356 - r2score: 0.1743 - val_loss: 11.5889 - val_r2score: 0.1913\n",
      "Epoch 11/16\n",
      "286/286 [==============================] - 0s 1ms/step - loss: 11.3454 - r2score: 0.1754 - val_loss: 11.7210 - val_r2score: 0.1573\n",
      "Epoch 12/16\n",
      "286/286 [==============================] - 0s 1ms/step - loss: 11.2976 - r2score: 0.1838 - val_loss: 11.6736 - val_r2score: 0.2026\n",
      "Epoch 13/16\n",
      "286/286 [==============================] - 0s 2ms/step - loss: 11.3364 - r2score: 0.1807 - val_loss: 11.6619 - val_r2score: 0.1452\n",
      "Epoch 14/16\n",
      "286/286 [==============================] - 0s 1ms/step - loss: 11.3172 - r2score: 0.1837 - val_loss: 11.4579 - val_r2score: 0.1815\n",
      "Epoch 15/16\n",
      "286/286 [==============================] - 0s 2ms/step - loss: 11.2577 - r2score: 0.1885 - val_loss: 11.4661 - val_r2score: 0.1863\n",
      "Epoch 16/16\n",
      "286/286 [==============================] - 0s 2ms/step - loss: 11.2842 - r2score: 0.1868 - val_loss: 11.5235 - val_r2score: 0.1999\n"
     ]
    }
   ],
   "source": [
    "train_data, validation_data, train_value, validation_value= train_test_split(X, y, train_size=0.9)\n",
    "\n",
    "normalizer = keras.layers.Normalization(axis=-1)\n",
    "normalizer.adapt(np.array(train_data))\n",
    "\n",
    "dnn_model = build_and_compile_model(normalizer)\n",
    "\n",
    "history=dnn_model.fit(X, y, verbose=1, validation_data=(validation_data, validation_value), epochs=16)"
   ]
  },
  {
   "cell_type": "code",
   "execution_count": 16,
   "metadata": {},
   "outputs": [
    {
     "data": {
      "image/png": "[encoded data removed]",
      "text/plain": [
       "<Figure size 640x480 with 1 Axes>"
      ]
     },
     "metadata": {},
     "output_type": "display_data"
    }
   ],
   "source": [
    "rsq_plot(history)"
   ]
  },
  {
   "cell_type": "code",
   "execution_count": 17,
   "metadata": {},
   "outputs": [
    {
     "name": "stdout",
     "output_type": "stream",
     "text": [
      "96/96 [==============================] - 0s 1ms/step\n"
     ]
    }
   ],
   "source": [
    "predict=dnn_model.predict(test_data)"
   ]
  },
  {
   "cell_type": "code",
   "execution_count": 25,
   "metadata": {},
   "outputs": [],
   "source": [
    "predict=predict.flatten()"
   ]
  },
  {
   "cell_type": "code",
   "execution_count": 27,
   "metadata": {},
   "outputs": [],
   "source": [
    "savefile(predict, \"hahaha2\")"
   ]
  }
 ],
 "metadata": {
  "kernelspec": {
   "display_name": "tf",
   "language": "python",
   "name": "python3"
  },
  "language_info": {
   "codemirror_mode": {
    "name": "ipython",
    "version": 3
   },
   "file_extension": ".py",
   "mimetype": "text/x-python",
   "name": "python",
   "nbconvert_exporter": "python",
   "pygments_lexer": "ipython3",
   "version": "3.11.6"
  }
 },
 "nbformat": 4,
 "nbformat_minor": 2
}
