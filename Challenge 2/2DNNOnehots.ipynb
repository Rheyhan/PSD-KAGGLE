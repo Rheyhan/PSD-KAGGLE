{
 "cells": [
  {
   "cell_type": "code",
   "execution_count": 1,
   "metadata": {},
   "outputs": [],
   "source": [
    "#load up modules\n",
    "import pandas as pd\n",
    "import numpy as np\n",
    "import matplotlib.pyplot as plt \n",
    "\n",
    "import pickle\n",
    "import os\n",
    "\n",
    "import category_encoders as ce\n",
    "\n",
    "from sklearn.metrics import r2_score\n",
    "from sklearn.model_selection import train_test_split\n",
    "\n",
    "from tqdm.notebook import tqdm\n",
    "\n",
    "\n",
    "import tensorflow as tf\n",
    "from tensorflow import keras\n",
    "from keras import layers\n",
    "\n",
    "import warnings\n",
    "warnings.filterwarnings('ignore')"
   ]
  },
  {
   "cell_type": "code",
   "execution_count": 2,
   "metadata": {},
   "outputs": [],
   "source": [
    "#Get dir\n",
    "path=\"D:/Kuliah/Semester 5/PSD/psd-challenge/Kerja lah su/Challenge 2/\"\n",
    "os.listdir(path)\n",
    "\n",
    "def savefile(result, savename):\n",
    "    try:\n",
    "        pd.DataFrame(zip(range(1,len(result)+1),result), columns=[\"No\", \"UHH\"]).to_csv(path+savename+\".csv\", index=False)\n",
    "    except:\n",
    "        print(\"It only saves the result retard!\")"
   ]
  },
  {
   "cell_type": "code",
   "execution_count": 3,
   "metadata": {},
   "outputs": [],
   "source": [
    "#Get dataset                                #Gw baru nyadar train di split lagi?\n",
    "test_data=pd.read_excel(path+\"Data/Data Test.xlsx\")\n",
    "train=pd.read_excel(path+\"Data/Data Train.xlsx\")"
   ]
  },
  {
   "cell_type": "code",
   "execution_count": 4,
   "metadata": {},
   "outputs": [],
   "source": [
    "#Get Metadatadata and each attribut encoder\n",
    "Metadata=pd.read_excel(path+\"Data/Metadata.xlsx\")\n",
    "\n",
    "# colnames w/ encoders\n",
    "temp=[]\n",
    "for i in Metadata.iloc[23:,0].unique():\n",
    "    temp.append(i) if str(i).startswith(\"PSTV\") else 0\n",
    "temp\n",
    "\n",
    "valueencoder={}\n",
    "try:\n",
    "    for i in range(len(temp)):\n",
    "        temp1=Metadata.iloc[Metadata.iloc[23:,:][Metadata[\"Variable Information\"]==temp[i]].index[0]:Metadata.iloc[23:,:][Metadata[\"Variable Information\"]==temp[i+1]].index[0],:].values\n",
    "        valueencoder[str(temp[i])] = (dict(zip(temp1[:,1], temp1[:,2])))\n",
    "except:\n",
    "    temp1=Metadata.iloc[Metadata.iloc[23:,:][Metadata[\"Variable Information\"]==\"PSTV17\"].index[0]:,:].values\n",
    "    valueencoder[str(temp[i])] = (dict(zip(temp1[:,1], temp1[:,2])))"
   ]
  },
  {
   "cell_type": "code",
   "execution_count": 5,
   "metadata": {},
   "outputs": [],
   "source": [
    "X=train.iloc[:,:-1]\n",
    "y=train.iloc[:,-1]"
   ]
  },
  {
   "cell_type": "code",
   "execution_count": 6,
   "metadata": {},
   "outputs": [],
   "source": [
    "#convert to onehots\n",
    "ordinalcolumns=[]\n",
    "for i in list(valueencoder.keys()):\n",
    "    ordinalcolumns.append(i) if i in list(train.columns)  else 0\n",
    "ordinalcolumns\n",
    "\n",
    "onehotencoder=ce.OneHotEncoder(cols=ordinalcolumns)\n",
    "onehotencoder.fit(X)\n",
    "X=onehotencoder.transform(X)\n",
    "test_data=onehotencoder.transform(test_data)"
   ]
  },
  {
   "cell_type": "code",
   "execution_count": 7,
   "metadata": {},
   "outputs": [],
   "source": [
    "def r2score(y_true, y_pred):\n",
    "    SS_res =  keras.backend.sum(keras.backend.square( y_true-y_pred ))\n",
    "    SS_tot = keras.backend.sum(keras.backend.square(y_true - keras.backend.mean(y_true)))\n",
    "    return (1 - (SS_res/SS_tot))"
   ]
  },
  {
   "cell_type": "code",
   "execution_count": 8,
   "metadata": {},
   "outputs": [],
   "source": [
    "def build_and_compile_model():\n",
    "  model = keras.Sequential([\n",
    "      layers.Dense(350, input_dim=X.shape[1], activation='relu'),\n",
    "      layers.Dense(350, activation='relu'),\n",
    "      layers.Dense(1)\n",
    "  ])\n",
    "\n",
    "  model.compile(loss='mean_absolute_percentage_error',\n",
    "                optimizer=tf.keras.optimizers.Adam(), metrics=[r2score, \"mean_absolute_percentage_error\"])\n",
    "  return model"
   ]
  },
  {
   "cell_type": "code",
   "execution_count": 9,
   "metadata": {},
   "outputs": [
    {
     "name": "stdout",
     "output_type": "stream",
     "text": [
      "Epoch 1/30\n",
      "143/143 [==============================] - 3s 7ms/step - loss: 93.2050 - r2score: -129.5060 - mean_absolute_percentage_error: 93.2050 - val_loss: 40.0902 - val_r2score: -8.1341 - val_mean_absolute_percentage_error: 40.0902\n",
      "Epoch 2/30\n",
      "143/143 [==============================] - 1s 4ms/step - loss: 71.1527 - r2score: -40.0801 - mean_absolute_percentage_error: 71.1527 - val_loss: 45.8272 - val_r2score: -10.5426 - val_mean_absolute_percentage_error: 45.8272\n",
      "Epoch 3/30\n",
      "143/143 [==============================] - 1s 4ms/step - loss: 41.5537 - r2score: -9.9545 - mean_absolute_percentage_error: 41.5537 - val_loss: 56.3854 - val_r2score: -14.5019 - val_mean_absolute_percentage_error: 56.3854\n",
      "Epoch 4/30\n",
      "143/143 [==============================] - 1s 4ms/step - loss: 45.6862 - r2score: -13.7317 - mean_absolute_percentage_error: 45.6862 - val_loss: 51.8470 - val_r2score: -12.1297 - val_mean_absolute_percentage_error: 51.8470\n",
      "Epoch 5/30\n",
      "143/143 [==============================] - 1s 5ms/step - loss: 45.2716 - r2score: -15.2968 - mean_absolute_percentage_error: 45.2716 - val_loss: 32.4225 - val_r2score: -7.0335 - val_mean_absolute_percentage_error: 32.4225\n",
      "Epoch 6/30\n",
      "143/143 [==============================] - 1s 5ms/step - loss: 31.9466 - r2score: -5.6652 - mean_absolute_percentage_error: 31.9466 - val_loss: 39.7437 - val_r2score: -7.0884 - val_mean_absolute_percentage_error: 39.7437\n",
      "Epoch 7/30\n",
      "143/143 [==============================] - 1s 5ms/step - loss: 36.9277 - r2score: -8.3393 - mean_absolute_percentage_error: 36.9277 - val_loss: 19.9399 - val_r2score: -1.6804 - val_mean_absolute_percentage_error: 19.9399\n",
      "Epoch 8/30\n",
      "143/143 [==============================] - 1s 5ms/step - loss: 26.7831 - r2score: -4.1204 - mean_absolute_percentage_error: 26.7831 - val_loss: 28.3744 - val_r2score: -3.6186 - val_mean_absolute_percentage_error: 28.3744\n",
      "Epoch 9/30\n",
      "143/143 [==============================] - 1s 5ms/step - loss: 28.2887 - r2score: -4.5800 - mean_absolute_percentage_error: 28.2887 - val_loss: 19.2468 - val_r2score: -1.2623 - val_mean_absolute_percentage_error: 19.2468\n",
      "Epoch 10/30\n",
      "143/143 [==============================] - 1s 5ms/step - loss: 21.2782 - r2score: -2.0064 - mean_absolute_percentage_error: 21.2782 - val_loss: 22.2786 - val_r2score: -1.8886 - val_mean_absolute_percentage_error: 22.2786\n",
      "Epoch 11/30\n",
      "143/143 [==============================] - 1s 5ms/step - loss: 21.4546 - r2score: -1.9859 - mean_absolute_percentage_error: 21.4546 - val_loss: 12.9494 - val_r2score: 0.0233 - val_mean_absolute_percentage_error: 12.9494\n",
      "Epoch 12/30\n",
      "143/143 [==============================] - 1s 5ms/step - loss: 19.5665 - r2score: -1.4945 - mean_absolute_percentage_error: 19.5665 - val_loss: 21.6596 - val_r2score: -1.5645 - val_mean_absolute_percentage_error: 21.6596\n",
      "Epoch 13/30\n",
      "143/143 [==============================] - 1s 4ms/step - loss: 18.3180 - r2score: -1.2009 - mean_absolute_percentage_error: 18.3180 - val_loss: 24.8422 - val_r2score: -2.7974 - val_mean_absolute_percentage_error: 24.8422\n",
      "Epoch 14/30\n",
      "143/143 [==============================] - 1s 4ms/step - loss: 19.2591 - r2score: -1.3802 - mean_absolute_percentage_error: 19.2591 - val_loss: 11.8512 - val_r2score: 0.1626 - val_mean_absolute_percentage_error: 11.8512\n",
      "Epoch 15/30\n",
      "143/143 [==============================] - 1s 5ms/step - loss: 18.0570 - r2score: -1.2778 - mean_absolute_percentage_error: 18.0570 - val_loss: 20.1029 - val_r2score: -1.5864 - val_mean_absolute_percentage_error: 20.1029\n",
      "Epoch 16/30\n",
      "143/143 [==============================] - 1s 5ms/step - loss: 18.0406 - r2score: -1.3189 - mean_absolute_percentage_error: 18.0406 - val_loss: 11.6318 - val_r2score: 0.1812 - val_mean_absolute_percentage_error: 11.6318\n",
      "Epoch 17/30\n",
      "143/143 [==============================] - 1s 4ms/step - loss: 18.8120 - r2score: -1.5597 - mean_absolute_percentage_error: 18.8120 - val_loss: 12.8479 - val_r2score: 0.0529 - val_mean_absolute_percentage_error: 12.8479\n",
      "Epoch 18/30\n",
      "143/143 [==============================] - 1s 4ms/step - loss: 15.4181 - r2score: -0.5319 - mean_absolute_percentage_error: 15.4181 - val_loss: 38.6554 - val_r2score: -7.8163 - val_mean_absolute_percentage_error: 38.6554\n",
      "Epoch 19/30\n",
      "143/143 [==============================] - 1s 4ms/step - loss: 17.8497 - r2score: -1.2269 - mean_absolute_percentage_error: 17.8497 - val_loss: 11.9336 - val_r2score: 0.0188 - val_mean_absolute_percentage_error: 11.9336\n",
      "Epoch 20/30\n",
      "143/143 [==============================] - 1s 5ms/step - loss: 14.9577 - r2score: -0.4500 - mean_absolute_percentage_error: 14.9577 - val_loss: 11.3321 - val_r2score: 0.2014 - val_mean_absolute_percentage_error: 11.3321\n",
      "Epoch 21/30\n",
      "143/143 [==============================] - 1s 4ms/step - loss: 16.6017 - r2score: -0.8752 - mean_absolute_percentage_error: 16.6017 - val_loss: 11.1077 - val_r2score: 0.2348 - val_mean_absolute_percentage_error: 11.1077\n",
      "Epoch 22/30\n",
      "143/143 [==============================] - 1s 4ms/step - loss: 14.8022 - r2score: -0.4149 - mean_absolute_percentage_error: 14.8022 - val_loss: 13.8415 - val_r2score: -0.0571 - val_mean_absolute_percentage_error: 13.8415\n",
      "Epoch 23/30\n",
      "143/143 [==============================] - 1s 5ms/step - loss: 13.4834 - r2score: -0.1389 - mean_absolute_percentage_error: 13.4834 - val_loss: 13.2469 - val_r2score: -0.1717 - val_mean_absolute_percentage_error: 13.2469\n",
      "Epoch 24/30\n",
      "143/143 [==============================] - 1s 4ms/step - loss: 13.7867 - r2score: -0.2164 - mean_absolute_percentage_error: 13.7867 - val_loss: 17.1273 - val_r2score: -0.6271 - val_mean_absolute_percentage_error: 17.1273\n",
      "Epoch 25/30\n",
      "143/143 [==============================] - 1s 5ms/step - loss: 14.4813 - r2score: -0.3444 - mean_absolute_percentage_error: 14.4813 - val_loss: 10.9400 - val_r2score: 0.2744 - val_mean_absolute_percentage_error: 10.9400\n",
      "Epoch 26/30\n",
      "143/143 [==============================] - 1s 4ms/step - loss: 13.0325 - r2score: -0.0842 - mean_absolute_percentage_error: 13.0325 - val_loss: 12.3609 - val_r2score: 0.1210 - val_mean_absolute_percentage_error: 12.3609\n",
      "Epoch 27/30\n",
      "143/143 [==============================] - 1s 5ms/step - loss: 13.0476 - r2score: -0.0633 - mean_absolute_percentage_error: 13.0476 - val_loss: 10.9717 - val_r2score: 0.2880 - val_mean_absolute_percentage_error: 10.9717\n",
      "Epoch 28/30\n",
      "143/143 [==============================] - 1s 4ms/step - loss: 13.5243 - r2score: -0.1586 - mean_absolute_percentage_error: 13.5243 - val_loss: 16.2549 - val_r2score: -0.4378 - val_mean_absolute_percentage_error: 16.2549\n",
      "Epoch 29/30\n",
      "143/143 [==============================] - 1s 4ms/step - loss: 14.3546 - r2score: -0.3637 - mean_absolute_percentage_error: 14.3546 - val_loss: 12.3558 - val_r2score: 0.1497 - val_mean_absolute_percentage_error: 12.3558\n",
      "Epoch 30/30\n",
      "143/143 [==============================] - 1s 4ms/step - loss: 13.1359 - r2score: -0.0976 - mean_absolute_percentage_error: 13.1359 - val_loss: 10.8495 - val_r2score: 0.2905 - val_mean_absolute_percentage_error: 10.8495\n"
     ]
    }
   ],
   "source": [
    "train_data, validation_data, train_value, validation_value= train_test_split(X, y, train_size=0.9)\n",
    "\n",
    "dnn_model = build_and_compile_model()\n",
    "\n",
    "history=dnn_model.fit(X, y, verbose=1, validation_data=(validation_data, validation_value), epochs=30, batch_size=64)"
   ]
  }
 ],
 "metadata": {
  "kernelspec": {
   "display_name": "tf",
   "language": "python",
   "name": "python3"
  },
  "language_info": {
   "codemirror_mode": {
    "name": "ipython",
    "version": 3
   },
   "file_extension": ".py",
   "mimetype": "text/x-python",
   "name": "python",
   "nbconvert_exporter": "python",
   "pygments_lexer": "ipython3",
   "version": "3.9.18"
  }
 },
 "nbformat": 4,
 "nbformat_minor": 2
}
