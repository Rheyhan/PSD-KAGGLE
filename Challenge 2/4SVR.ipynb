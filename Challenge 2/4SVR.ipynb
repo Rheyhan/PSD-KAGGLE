{
 "cells": [
  {
   "cell_type": "code",
   "execution_count": 1,
   "metadata": {},
   "outputs": [],
   "source": [
    "#load up modules\n",
    "import pandas as pd\n",
    "import numpy as np\n",
    "import matplotlib.pyplot as plt \n",
    "\n",
    "import pickle\n",
    "import os\n",
    "\n",
    "import category_encoders as ce\n",
    "\n",
    "from sklearn.metrics import r2_score\n",
    "\n",
    "\n",
    "from sklearn.model_selection import train_test_split\n",
    "from sklearn.metrics import mean_absolute_percentage_error as mape\n",
    "from sklearn.model_selection import RandomizedSearchCV\n",
    "\n",
    "from tqdm.notebook import tqdm"
   ]
  },
  {
   "cell_type": "code",
   "execution_count": 2,
   "metadata": {},
   "outputs": [],
   "source": [
    "#Get dir\n",
    "path=\"D:/Kuliah/Semester 5/PSD/psd-challenge/Kerja lah su/Challenge 2/\"\n",
    "os.listdir(path)\n",
    "\n",
    "def savefile(result, savename):\n",
    "    try:\n",
    "        pd.DataFrame(zip(range(1,len(result)+1),result), columns=[\"No\", \"UHH\"]).to_csv(path+savename+\".csv\", index=False)\n",
    "    except:\n",
    "        print(\"It only saves the result retard!\")"
   ]
  },
  {
   "cell_type": "code",
   "execution_count": 3,
   "metadata": {},
   "outputs": [],
   "source": [
    "#Get dataset                                #Gw baru nyadar train di split lagi?\n",
    "test_data=pd.read_excel(path+\"Data/Data Test.xlsx\")\n",
    "train=pd.read_excel(path+\"Data/Data Train.xlsx\")"
   ]
  },
  {
   "cell_type": "code",
   "execution_count": 4,
   "metadata": {},
   "outputs": [],
   "source": [
    "X=train.iloc[:,:-1]\n",
    "y=train.iloc[:,-1]"
   ]
  },
  {
   "cell_type": "code",
   "execution_count": 5,
   "metadata": {},
   "outputs": [],
   "source": [
    "from sklearn.svm import SVR\n",
    "train_data, validation_data, train_value, validation_value= train_test_split(X, y, train_size=0.9)\n",
    "\n",
    "\n",
    "kernel = ['poly', 'rbf', 'sigmoid', 'precomputed']"
   ]
  },
  {
   "cell_type": "code",
   "execution_count": 6,
   "metadata": {},
   "outputs": [
    {
     "name": "stdout",
     "output_type": "stream",
     "text": [
      "0.13489939371750806\n",
      "0.13455696978466597\n",
      "1.9529322063555492\n"
     ]
    },
    {
     "ename": "ValueError",
     "evalue": "Precomputed matrix must be a square matrix. Input is a 8230x11 matrix.",
     "output_type": "error",
     "traceback": [
      "\u001b[1;31m---------------------------------------------------------------------------\u001b[0m",
      "\u001b[1;31mValueError\u001b[0m                                Traceback (most recent call last)",
      "\u001b[1;32md:\\Kuliah\\Semester 5\\PSD\\psd-challenge\\Kerja lah su\\Challenge 2\\4SVR.ipynb Cell 6\u001b[0m line \u001b[0;36m3\n\u001b[0;32m      <a href='vscode-notebook-cell:/d%3A/Kuliah/Semester%205/PSD/psd-challenge/Kerja%20lah%20su/Challenge%202/4SVR.ipynb#W6sZmlsZQ%3D%3D?line=0'>1</a>\u001b[0m \u001b[39mfor\u001b[39;00m i \u001b[39min\u001b[39;00m kernel:\n\u001b[0;32m      <a href='vscode-notebook-cell:/d%3A/Kuliah/Semester%205/PSD/psd-challenge/Kerja%20lah%20su/Challenge%202/4SVR.ipynb#W6sZmlsZQ%3D%3D?line=1'>2</a>\u001b[0m     theSVR \u001b[39m=\u001b[39m SVR(kernel\u001b[39m=\u001b[39mi)\n\u001b[1;32m----> <a href='vscode-notebook-cell:/d%3A/Kuliah/Semester%205/PSD/psd-challenge/Kerja%20lah%20su/Challenge%202/4SVR.ipynb#W6sZmlsZQ%3D%3D?line=2'>3</a>\u001b[0m     theSVR\u001b[39m.\u001b[39;49mfit(train_data, train_value)\n\u001b[0;32m      <a href='vscode-notebook-cell:/d%3A/Kuliah/Semester%205/PSD/psd-challenge/Kerja%20lah%20su/Challenge%202/4SVR.ipynb#W6sZmlsZQ%3D%3D?line=3'>4</a>\u001b[0m     predicted\u001b[39m=\u001b[39mtheSVR\u001b[39m.\u001b[39mpredict(validation_data)   \n\u001b[0;32m      <a href='vscode-notebook-cell:/d%3A/Kuliah/Semester%205/PSD/psd-challenge/Kerja%20lah%20su/Challenge%202/4SVR.ipynb#W6sZmlsZQ%3D%3D?line=4'>5</a>\u001b[0m     \u001b[39mprint\u001b[39m(mape(validation_value,predicted))\n",
      "File \u001b[1;32mc:\\Users\\Rhey\\miniconda3\\envs\\tf\\lib\\site-packages\\sklearn\\base.py:1151\u001b[0m, in \u001b[0;36m_fit_context.<locals>.decorator.<locals>.wrapper\u001b[1;34m(estimator, *args, **kwargs)\u001b[0m\n\u001b[0;32m   1144\u001b[0m     estimator\u001b[39m.\u001b[39m_validate_params()\n\u001b[0;32m   1146\u001b[0m \u001b[39mwith\u001b[39;00m config_context(\n\u001b[0;32m   1147\u001b[0m     skip_parameter_validation\u001b[39m=\u001b[39m(\n\u001b[0;32m   1148\u001b[0m         prefer_skip_nested_validation \u001b[39mor\u001b[39;00m global_skip_validation\n\u001b[0;32m   1149\u001b[0m     )\n\u001b[0;32m   1150\u001b[0m ):\n\u001b[1;32m-> 1151\u001b[0m     \u001b[39mreturn\u001b[39;00m fit_method(estimator, \u001b[39m*\u001b[39margs, \u001b[39m*\u001b[39m\u001b[39m*\u001b[39mkwargs)\n",
      "File \u001b[1;32mc:\\Users\\Rhey\\miniconda3\\envs\\tf\\lib\\site-packages\\sklearn\\svm\\_base.py:215\u001b[0m, in \u001b[0;36mBaseLibSVM.fit\u001b[1;34m(self, X, y, sample_weight)\u001b[0m\n\u001b[0;32m    209\u001b[0m     \u001b[39mraise\u001b[39;00m \u001b[39mValueError\u001b[39;00m(\n\u001b[0;32m    210\u001b[0m         \u001b[39m\"\u001b[39m\u001b[39mX and y have incompatible shapes.\u001b[39m\u001b[39m\\n\u001b[39;00m\u001b[39m\"\u001b[39m\n\u001b[0;32m    211\u001b[0m         \u001b[39m+\u001b[39m \u001b[39m\"\u001b[39m\u001b[39mX has \u001b[39m\u001b[39m%s\u001b[39;00m\u001b[39m samples, but y has \u001b[39m\u001b[39m%s\u001b[39;00m\u001b[39m.\u001b[39m\u001b[39m\"\u001b[39m \u001b[39m%\u001b[39m (n_samples, y\u001b[39m.\u001b[39mshape[\u001b[39m0\u001b[39m])\n\u001b[0;32m    212\u001b[0m     )\n\u001b[0;32m    214\u001b[0m \u001b[39mif\u001b[39;00m \u001b[39mself\u001b[39m\u001b[39m.\u001b[39mkernel \u001b[39m==\u001b[39m \u001b[39m\"\u001b[39m\u001b[39mprecomputed\u001b[39m\u001b[39m\"\u001b[39m \u001b[39mand\u001b[39;00m n_samples \u001b[39m!=\u001b[39m X\u001b[39m.\u001b[39mshape[\u001b[39m1\u001b[39m]:\n\u001b[1;32m--> 215\u001b[0m     \u001b[39mraise\u001b[39;00m \u001b[39mValueError\u001b[39;00m(\n\u001b[0;32m    216\u001b[0m         \u001b[39m\"\u001b[39m\u001b[39mPrecomputed matrix must be a square matrix.\u001b[39m\u001b[39m\"\u001b[39m\n\u001b[0;32m    217\u001b[0m         \u001b[39m\"\u001b[39m\u001b[39m Input is a \u001b[39m\u001b[39m{}\u001b[39;00m\u001b[39mx\u001b[39m\u001b[39m{}\u001b[39;00m\u001b[39m matrix.\u001b[39m\u001b[39m\"\u001b[39m\u001b[39m.\u001b[39mformat(X\u001b[39m.\u001b[39mshape[\u001b[39m0\u001b[39m], X\u001b[39m.\u001b[39mshape[\u001b[39m1\u001b[39m])\n\u001b[0;32m    218\u001b[0m     )\n\u001b[0;32m    220\u001b[0m \u001b[39mif\u001b[39;00m sample_weight\u001b[39m.\u001b[39mshape[\u001b[39m0\u001b[39m] \u001b[39m>\u001b[39m \u001b[39m0\u001b[39m \u001b[39mand\u001b[39;00m sample_weight\u001b[39m.\u001b[39mshape[\u001b[39m0\u001b[39m] \u001b[39m!=\u001b[39m n_samples:\n\u001b[0;32m    221\u001b[0m     \u001b[39mraise\u001b[39;00m \u001b[39mValueError\u001b[39;00m(\n\u001b[0;32m    222\u001b[0m         \u001b[39m\"\u001b[39m\u001b[39msample_weight and X have incompatible shapes: \u001b[39m\u001b[39m\"\u001b[39m\n\u001b[0;32m    223\u001b[0m         \u001b[39m\"\u001b[39m\u001b[39m%r\u001b[39;00m\u001b[39m vs \u001b[39m\u001b[39m%r\u001b[39;00m\u001b[39m\\n\u001b[39;00m\u001b[39m\"\u001b[39m\n\u001b[1;32m   (...)\u001b[0m\n\u001b[0;32m    226\u001b[0m         \u001b[39m%\u001b[39m (sample_weight\u001b[39m.\u001b[39mshape, X\u001b[39m.\u001b[39mshape)\n\u001b[0;32m    227\u001b[0m     )\n",
      "\u001b[1;31mValueError\u001b[0m: Precomputed matrix must be a square matrix. Input is a 8230x11 matrix."
     ]
    }
   ],
   "source": [
    "for i in kernel:\n",
    "    theSVR = SVR(kernel=i)\n",
    "    theSVR.fit(train_data, train_value)\n",
    "    predicted=theSVR.predict(validation_data)   \n",
    "    print(mape(validation_value,predicted))"
   ]
  }
 ],
 "metadata": {
  "kernelspec": {
   "display_name": "tf",
   "language": "python",
   "name": "python3"
  },
  "language_info": {
   "codemirror_mode": {
    "name": "ipython",
    "version": 3
   },
   "file_extension": ".py",
   "mimetype": "text/x-python",
   "name": "python",
   "nbconvert_exporter": "python",
   "pygments_lexer": "ipython3",
   "version": "3.9.18"
  }
 },
 "nbformat": 4,
 "nbformat_minor": 2
}
