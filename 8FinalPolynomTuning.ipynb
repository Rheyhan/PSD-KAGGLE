{
 "cells": [
  {
   "cell_type": "code",
   "execution_count": 5,
   "metadata": {},
   "outputs": [],
   "source": [
    "#load up modules\n",
    "import pandas as pd\n",
    "import numpy as np\n",
    "import matplotlib.pyplot as plt \n",
    "\n",
    "import pickle\n",
    "import os\n",
    "\n",
    "import category_encoders as ce\n",
    "\n",
    "from sklearn.metrics import r2_score\n",
    "from sklearn.model_selection import train_test_split\n",
    "\n",
    "from tqdm.notebook import tqdm\n",
    "\n",
    "from sklearn.linear_model import LinearRegression\n",
    "from sklearn.preprocessing import PolynomialFeatures"
   ]
  },
  {
   "cell_type": "code",
   "execution_count": 9,
   "metadata": {},
   "outputs": [],
   "source": [
    "#Get dir\n",
    "path=\"D:/Kuliah/Semester 5/PSD/psd-challenge/\"\n",
    "os.listdir(path)\n",
    "\n",
    "def savefile(result, savename):\n",
    "    try:\n",
    "        pd.DataFrame(zip(range(1,len(result)+1),result), columns=[\"No\", \"UHH\"]).to_csv(path+\"Kerja lah su/\"+savename+\".csv\", index=False)\n",
    "    except:\n",
    "        print(\"It only saves the result retard!\")"
   ]
  },
  {
   "cell_type": "code",
   "execution_count": 18,
   "metadata": {},
   "outputs": [],
   "source": [
    "#Get dataset                                #Gw baru nyadar train di split lagi?\n",
    "test_data=pd.read_excel(path+\"Test.xlsx\")\n",
    "train=pd.read_excel(path+\"Train.xlsx\")"
   ]
  },
  {
   "cell_type": "code",
   "execution_count": 19,
   "metadata": {},
   "outputs": [],
   "source": [
    "#Tuning thing lalala\n",
    "class tuningyorpolynom:\n",
    "    def __init__(self, data, max_degree):\n",
    "        self.data=data\n",
    "        self.polynom_max=max_degree\n",
    "        self.start()\n",
    "    \n",
    "    def start(self):\n",
    "        X=self.data.copy()\n",
    "        y=X.pop(\"UHH\")\n",
    "        self.temp=[]\n",
    "        for i in tqdm(range(1,self.polynom_max+1)):\n",
    "            for j in tqdm([True, False]):\n",
    "                poly = PolynomialFeatures(degree=i, include_bias=j)\n",
    "                poly.fit(X)\n",
    "                poly_features = poly.transform(X)\n",
    "\n",
    "                train_data, validation_data, train_value, validation_value= train_test_split(poly_features, y, train_size=0.8, random_state=32112)\n",
    "                model= LinearRegression().fit(train_data, train_value)\n",
    "\n",
    "                accuracy=r2_score(train_value, model.predict(train_data))\n",
    "                val_accuracy=r2_score(validation_value, model.predict(validation_data))\n",
    "                self.temp.append([i, j , accuracy, val_accuracy])"
   ]
  },
  {
   "cell_type": "code",
   "execution_count": 20,
   "metadata": {},
   "outputs": [
    {
     "data": {
      "application/vnd.jupyter.widget-view+json": {
       "model_id": "a2682231651a406f8f35620047a3ffda",
       "version_major": 2,
       "version_minor": 0
      },
      "text/plain": [
       "  0%|          | 0/4 [00:00<?, ?it/s]"
      ]
     },
     "metadata": {},
     "output_type": "display_data"
    },
    {
     "data": {
      "application/vnd.jupyter.widget-view+json": {
       "model_id": "ce292ca16b084fa4ac27ecbfd5ae3ea9",
       "version_major": 2,
       "version_minor": 0
      },
      "text/plain": [
       "  0%|          | 0/2 [00:00<?, ?it/s]"
      ]
     },
     "metadata": {},
     "output_type": "display_data"
    },
    {
     "data": {
      "application/vnd.jupyter.widget-view+json": {
       "model_id": "9c1fdae172274be6a1309d22928ad37c",
       "version_major": 2,
       "version_minor": 0
      },
      "text/plain": [
       "  0%|          | 0/2 [00:00<?, ?it/s]"
      ]
     },
     "metadata": {},
     "output_type": "display_data"
    },
    {
     "data": {
      "application/vnd.jupyter.widget-view+json": {
       "model_id": "ed050c8fd0ed410bafbfebf0cb0a0152",
       "version_major": 2,
       "version_minor": 0
      },
      "text/plain": [
       "  0%|          | 0/2 [00:00<?, ?it/s]"
      ]
     },
     "metadata": {},
     "output_type": "display_data"
    },
    {
     "data": {
      "application/vnd.jupyter.widget-view+json": {
       "model_id": "f724941f740a48f2824c66c0df1def83",
       "version_major": 2,
       "version_minor": 0
      },
      "text/plain": [
       "  0%|          | 0/2 [00:00<?, ?it/s]"
      ]
     },
     "metadata": {},
     "output_type": "display_data"
    }
   ],
   "source": [
    "haha=tuningyorpolynom(train, 4)"
   ]
  },
  {
   "cell_type": "code",
   "execution_count": 21,
   "metadata": {},
   "outputs": [
    {
     "data": {
      "text/plain": [
       "[[1, True, 0.2320422972530818, 0.25415482138756096],\n",
       " [1, False, 0.2320422972530818, 0.25415482138755885],\n",
       " [2, True, 0.29220688754320134, 0.30484852972417587],\n",
       " [2, False, 0.2922068875432101, 0.30484852979169885],\n",
       " [3, True, 0.34977619993189357, 0.09865520783335269],\n",
       " [3, False, 0.3495612355593143, -0.35755931059750856],\n",
       " [4, True, 0.36135389037510657, -619.5046455548378],\n",
       " [4, False, 0.3380988430315204, -961.2823618555985]]"
      ]
     },
     "execution_count": 21,
     "metadata": {},
     "output_type": "execute_result"
    }
   ],
   "source": [
    "haha.temp"
   ]
  },
  {
   "cell_type": "code",
   "execution_count": null,
   "metadata": {},
   "outputs": [],
   "source": [
    "X=train.copy()\n",
    "y=X.pop(\"UHH\")\n",
    "\n",
    "model= LinearRegression().fit(X, y)\n",
    "poly=PolynomialFeatures(degree=)\n",
    "poly_test=poly.transform(test_data)\n",
    "model= LinearRegression().fit(poly_features, y)\n",
    "predicted=model.predict(poly_test)"
   ]
  },
  {
   "cell_type": "code",
   "execution_count": null,
   "metadata": {},
   "outputs": [],
   "source": []
  }
 ],
 "metadata": {
  "kernelspec": {
   "display_name": "tf",
   "language": "python",
   "name": "python3"
  },
  "language_info": {
   "codemirror_mode": {
    "name": "ipython",
    "version": 3
   },
   "file_extension": ".py",
   "mimetype": "text/x-python",
   "name": "python",
   "nbconvert_exporter": "python",
   "pygments_lexer": "ipython3",
   "version": "3.9.18"
  }
 },
 "nbformat": 4,
 "nbformat_minor": 2
}
