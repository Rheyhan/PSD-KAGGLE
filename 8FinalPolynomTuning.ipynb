{
 "cells": [
  {
   "cell_type": "code",
   "execution_count": 2,
   "metadata": {},
   "outputs": [],
   "source": [
    "#load up modules\n",
    "import pandas as pd\n",
    "import numpy as np\n",
    "import matplotlib.pyplot as plt \n",
    "\n",
    "import pickle\n",
    "import os\n",
    "\n",
    "import category_encoders as ce\n",
    "\n",
    "from sklearn.metrics import r2_score\n",
    "from sklearn.model_selection import train_test_split\n",
    "\n",
    "from tqdm.notebook import tqdm\n",
    "\n",
    "from sklearn.linear_model import LinearRegression\n",
    "from sklearn.preprocessing import PolynomialFeatures"
   ]
  },
  {
   "cell_type": "code",
   "execution_count": 3,
   "metadata": {},
   "outputs": [],
   "source": [
    "#Get dir\n",
    "path=\"D:/Kuliah/Semester 5/PSD/psd-challenge/\"\n",
    "os.listdir(path)\n",
    "\n",
    "def savefile(result, savename):\n",
    "    try:\n",
    "        pd.DataFrame(zip(range(1,len(result)+1),result), columns=[\"No\", \"UHH\"]).to_csv(path+\"Kerja lah su/\"+savename+\".csv\", index=False)\n",
    "    except:\n",
    "        print(\"It only saves the result retard!\")"
   ]
  },
  {
   "cell_type": "code",
   "execution_count": 7,
   "metadata": {},
   "outputs": [],
   "source": [
    "#Get dataset                                #Gw baru nyadar train di split lagi?\n",
    "test_data=pd.read_excel(path+\"Test.xlsx\")\n",
    "train=pd.read_excel(path+\"Train.xlsx\")"
   ]
  },
  {
   "cell_type": "code",
   "execution_count": 8,
   "metadata": {},
   "outputs": [],
   "source": [
    "X=train.copy()\n",
    "y=X.pop(\"UHH\")"
   ]
  },
  {
   "cell_type": "code",
   "execution_count": null,
   "metadata": {},
   "outputs": [],
   "source": [
    "#Tuning thing lalala\n",
    "class tuningyorpolynom:\n",
    "    def __init__(self, features, max_degree):\n",
    "        self.features=features\n",
    "        self.polynom_max=polynom_max\n",
    "        self.start()\n",
    "    \n",
    "    def start(self):\n",
    "        "
   ]
  },
  {
   "cell_type": "code",
   "execution_count": 32,
   "metadata": {},
   "outputs": [
    {
     "data": {
      "text/plain": [
       "Index(['PSTV04', 'PSTV05', 'PSTV06', 'PSTV07', 'PSTV08', 'PSTV09', 'PSTV10',\n",
       "       'PSTV11', 'PSTV12', 'PSTV13', 'PSTV14'],\n",
       "      dtype='object')"
      ]
     },
     "execution_count": 32,
     "metadata": {},
     "output_type": "execute_result"
    }
   ],
   "source": [
    "X.columns"
   ]
  },
  {
   "cell_type": "code",
   "execution_count": 30,
   "metadata": {},
   "outputs": [
    {
     "ename": "IndentationError",
     "evalue": "expected an indented block (2922528808.py, line 9)",
     "output_type": "error",
     "traceback": [
      "\u001b[1;36m  Cell \u001b[1;32mIn[30], line 9\u001b[1;36m\u001b[0m\n\u001b[1;33m    poly_1 = PolynomialFeatures(degree=i_1, include_bias=False)\u001b[0m\n\u001b[1;37m    ^\u001b[0m\n\u001b[1;31mIndentationError\u001b[0m\u001b[1;31m:\u001b[0m expected an indented block\n"
     ]
    }
   ],
   "source": [
    "lala=range(1,5)\n",
    "\n",
    "'PSTV04', 'PSTV05', 'PSTV06', 'PSTV07', 'PSTV08', 'PSTV09', 'PSTV10',\n",
    "       'PSTV11', 'PSTV12', 'PSTV13', 'PSTV14'\n",
    "for i_1 in lala:\n",
    "    poly_1 = PolynomialFeatures(degree=i_1, include_bias=False)\n",
    "    poly_1.fit(X[\"PSTV04\"].values.reshape(1,-1))\n",
    "    poly_features = poly_1.transform(X[\"PSTV04\"].values.reshape(1,-1))\n",
    "    \n",
    "    for i_2 in lala:\n",
    "        poly_2 = PolynomialFeatures(degree=i_1, include_bias=False)\n",
    "        poly_2.fit(X[\"PSTV04\"].values.reshape(1,-1))\n",
    "        poly_features = poly_2.transform(X[\"PSTV04\"].values.reshape(1,-1))\n",
    "        \n",
    "        for i_3 in lala:\n",
    "            poly_3 = PolynomialFeatures(degree=i_1, include_bias=False)\n",
    "            poly_3.fit(X[\"PSTV04\"].values.reshape(1,-1))\n",
    "            poly_features = poly_3.transform(X[\"PSTV04\"].values.reshape(1,-1))\n",
    "            \n",
    "            for i_4 in lala:\n",
    "                poly_4 = PolynomialFeatures(degree=i_1, include_bias=False)\n",
    "                poly_4.fit(X[\"PSTV04\"].values.reshape(1,-1))\n",
    "                poly_features = poly_4.transform(X[\"PSTV04\"].values.reshape(1,-1))\n",
    "                \n",
    "                for i_5 in lala:\n",
    "                    poly_5 = PolynomialFeatures(degree=i_1, include_bias=False)\n",
    "                    poly_5.fit(X[\"PSTV04\"].values.reshape(1,-1))\n",
    "                    poly_features = poly_5.transform(X[\"PSTV04\"].values.reshape(1,-1))\n",
    "                    \n",
    "                    for i_6 in lala:\n",
    "                        poly_6 = PolynomialFeatures(degree=i_1, include_bias=False)\n",
    "                        poly_6.fit(X[\"PSTV04\"].values.reshape(1,-1))\n",
    "                        poly_features = poly_6.transform(X[\"PSTV04\"].values.reshape(1,-1))\n",
    "    \n",
    "                        for i_7 in lala:\n",
    "                            poly_7 = PolynomialFeatures(degree=i_1, include_bias=False)\n",
    "                            poly_7.fit(X[\"PSTV04\"].values.reshape(1,-1))\n",
    "                            poly_features = poly_7.transform(X[\"PSTV04\"].values.reshape(1,-1))\n",
    "    \n",
    "                            for i_8 in lala:\n",
    "                                poly_8 = PolynomialFeatures(degree=i_1, include_bias=False)\n",
    "                                poly_8.fit(X[\"PSTV04\"].values.reshape(1,-1))\n",
    "                                poly_features = poly_8.transform(X[\"PSTV04\"].values.reshape(1,-1))\n",
    "    \n",
    "                                for i_9 in lala:\n",
    "                                    poly_9 = PolynomialFeatures(degree=i_1, include_bias=False)\n",
    "                                    poly_9.fit(X[\"PSTV04\"].values.reshape(1,-1))\n",
    "                                    poly_features = poly_9.transform(X[\"PSTV04\"].values.reshape(1,-1))\n",
    "    \n",
    "                                    for i_10 in lala:\n",
    "                                        poly_10 = PolynomialFeatures(degree=i_1, include_bias=False)\n",
    "                                        poly_10.fit(X[\"PSTV04\"].values.reshape(1,-1))\n",
    "                                        poly_features = poly_10.transform(X[\"PSTV04\"].values.reshape(1,-1))\n",
    "    \n",
    "                                        for i_11 in lala:\n",
    "                                            poly_11 = PolynomialFeatures(degree=i_1, include_bias=False)\n",
    "                                            poly_11.fit(X[\"PSTV04\"].values.reshape(1,-1))\n",
    "                                            poly_features = poly_11.transform(X[\"PSTV04\"].values.reshape(1,-1))"
   ]
  },
  {
   "cell_type": "code",
   "execution_count": 31,
   "metadata": {},
   "outputs": [
    {
     "data": {
      "text/plain": [
       "Index(['PSTV04', 'PSTV05', 'PSTV06', 'PSTV07', 'PSTV08', 'PSTV09', 'PSTV10',\n",
       "       'PSTV11', 'PSTV12', 'PSTV13', 'PSTV14'],\n",
       "      dtype='object')"
      ]
     },
     "execution_count": 31,
     "metadata": {},
     "output_type": "execute_result"
    }
   ],
   "source": [
    "X.columns"
   ]
  },
  {
   "cell_type": "code",
   "execution_count": 24,
   "metadata": {},
   "outputs": [],
   "source": [
    "poly = PolynomialFeatures(degree=2, include_bias=False)\n",
    "poly.fit(X[\"PSTV04\"].values.reshape(1,-1))\n",
    "poly_features = poly.transform(X[\"PSTV04\"].values.reshape(1,-1))"
   ]
  },
  {
   "cell_type": "code",
   "execution_count": 20,
   "metadata": {},
   "outputs": [
    {
     "data": {
      "text/plain": [
       "array([[1., 1., 1., ..., 9., 9., 9.]])"
      ]
     },
     "execution_count": 20,
     "metadata": {},
     "output_type": "execute_result"
    }
   ],
   "source": [
    "poly_features"
   ]
  },
  {
   "cell_type": "code",
   "execution_count": null,
   "metadata": {},
   "outputs": [],
   "source": [
    "poly1 = PolynomialFeatures(degree=2, include_bias=False)\n",
    "poly1.fit(X[\"PSTV04\"].values.reshape(1,-1))\n",
    "poly_features = poly.transform(X[\"PSTV04\"].values.reshape(1,-1))"
   ]
  }
 ],
 "metadata": {
  "kernelspec": {
   "display_name": "tf",
   "language": "python",
   "name": "python3"
  },
  "language_info": {
   "codemirror_mode": {
    "name": "ipython",
    "version": 3
   },
   "file_extension": ".py",
   "mimetype": "text/x-python",
   "name": "python",
   "nbconvert_exporter": "python",
   "pygments_lexer": "ipython3",
   "version": "3.9.18"
  }
 },
 "nbformat": 4,
 "nbformat_minor": 2
}
