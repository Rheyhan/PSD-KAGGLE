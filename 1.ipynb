{
 "cells": [
  {
   "cell_type": "code",
   "execution_count": 3,
   "metadata": {},
   "outputs": [],
   "source": [
    "#load up modules\n",
    "import pandas as pd\n",
    "import numpy as np\n",
    "import matplotlib.pyplot as plt \n",
    "\n",
    "import pickle\n",
    "import os\n",
    "\n",
    "import category_encoders as ce\n",
    "\n",
    "from sklearn.metrics import r2_score\n",
    "from sklearn.linear_model import LinearRegression\n",
    "from sklearn.model_selection import train_test_split"
   ]
  },
  {
   "cell_type": "code",
   "execution_count": 4,
   "metadata": {},
   "outputs": [
    {
     "data": {
      "text/plain": [
       "['Kerja lah su',\n",
       " 'Metadata.xlsx',\n",
       " 'Sample Submission - Copy.csv',\n",
       " 'Sample Submission.csv',\n",
       " 'Test.xlsx',\n",
       " 'Train.xlsx',\n",
       " '~$Metadata.xlsx',\n",
       " '~$Test.xlsx',\n",
       " '~$Train.xlsx']"
      ]
     },
     "execution_count": 4,
     "metadata": {},
     "output_type": "execute_result"
    }
   ],
   "source": [
    "#Get dir\n",
    "path=\"D:/Kuliah/Semester 5/PSD/psd-challenge/\"\n",
    "os.listdir(path)"
   ]
  },
  {
   "cell_type": "code",
   "execution_count": 5,
   "metadata": {},
   "outputs": [],
   "source": [
    "def savefile(result, savename):\n",
    "    try:\n",
    "        pd.DataFrame(zip(range(1,len(result)+1),result)).to_csv(path+\"Kerja lah su/\"+savename+\".csv\")\n",
    "    except:\n",
    "        print(\"It only saves the result retard!\")"
   ]
  },
  {
   "cell_type": "code",
   "execution_count": 42,
   "metadata": {},
   "outputs": [
    {
     "data": {
      "text/plain": [
       "'\\n#remove missing value\\nfor i in [9,99]:\\n    test_data=test_data[test_data!=i].dropna(axis=0)\\n    train=train[train!=i].dropna(axis=0)\\n'"
      ]
     },
     "execution_count": 42,
     "metadata": {},
     "output_type": "execute_result"
    }
   ],
   "source": [
    "#Get dataset                                #Gw baru nyadar train di split lagi?\n",
    "test_data=pd.read_excel(path+\"Test.xlsx\")\n",
    "train=pd.read_excel(path+\"Train.xlsx\")\n",
    "\n",
    "'''\n",
    "#remove missing value\n",
    "for i in [9,99]:\n",
    "    test_data=test_data[test_data!=i].dropna(axis=0)\n",
    "    train=train[train!=i].dropna(axis=0)\n",
    "'''"
   ]
  },
  {
   "cell_type": "code",
   "execution_count": 106,
   "metadata": {},
   "outputs": [
    {
     "name": "stderr",
     "output_type": "stream",
     "text": [
      "C:\\Users\\Rhey\\AppData\\Local\\Temp\\ipykernel_7740\\2399741515.py:13: UserWarning: Boolean Series key will be reindexed to match DataFrame index.\n",
      "  temp1=Metadata.iloc[Metadata.iloc[23:,:][Metadata[\"Variable Information\"]==temp[i]].index[0]:Metadata.iloc[23:,:][Metadata[\"Variable Information\"]==temp[i+1]].index[0],:].values\n",
      "C:\\Users\\Rhey\\AppData\\Local\\Temp\\ipykernel_7740\\2399741515.py:16: UserWarning: Boolean Series key will be reindexed to match DataFrame index.\n",
      "  temp1=Metadata.iloc[Metadata.iloc[23:,:][Metadata[\"Variable Information\"]==\"PSTV17\"].index[0]:,:].values\n"
     ]
    }
   ],
   "source": [
    "#Get Metadatadata and each attribut encoder\n",
    "Metadata=pd.read_excel(path+\"Metadata.xlsx\")\n",
    "\n",
    "# colnames w/ encoders\n",
    "temp=[]\n",
    "for i in Metadata.iloc[23:,0].unique():\n",
    "    temp.append(i) if str(i).startswith(\"PSTV\") else 0\n",
    "temp\n",
    "\n",
    "valueencoder={}\n",
    "try:\n",
    "    for i in range(len(temp)):\n",
    "        temp1=Metadata.iloc[Metadata.iloc[23:,:][Metadata[\"Variable Information\"]==temp[i]].index[0]:Metadata.iloc[23:,:][Metadata[\"Variable Information\"]==temp[i+1]].index[0],:].values\n",
    "        valueencoder[str(temp[i])] = (dict(zip(temp1[:,1], temp1[:,2])))\n",
    "except:\n",
    "    temp1=Metadata.iloc[Metadata.iloc[23:,:][Metadata[\"Variable Information\"]==\"PSTV17\"].index[0]:,:].values\n",
    "    valueencoder[str(temp[i])] = (dict(zip(temp1[:,1], temp1[:,2])))"
   ]
  },
  {
   "cell_type": "code",
   "execution_count": 43,
   "metadata": {},
   "outputs": [],
   "source": [
    "X=train.iloc[:,:-1]\n",
    "y=train.iloc[:,-1]"
   ]
  },
  {
   "cell_type": "code",
   "execution_count": 62,
   "metadata": {},
   "outputs": [
    {
     "name": "stdout",
     "output_type": "stream",
     "text": [
      "Train   :   0.23513284417345437\n",
      "Test    :   0.24253254491203358\n"
     ]
    }
   ],
   "source": [
    "train_data, validation_data, train_value, validation_value= train_test_split(X, y, train_size=0.8)\n",
    "model= LinearRegression().fit(train_data, train_value)\n",
    "\n",
    "print(f'Train   :   {r2_score(train_value, model.predict(train_data))}')\n",
    "print(f'Test    :   {r2_score(validation_value, model.predict(validation_data))}')"
   ]
  },
  {
   "cell_type": "markdown",
   "metadata": {},
   "source": [
    "Diencode lebih buruk nilainya."
   ]
  },
  {
   "cell_type": "code",
   "execution_count": 123,
   "metadata": {},
   "outputs": [],
   "source": [
    "model= LinearRegression().fit(X, y)\n",
    "predicred=model.predict(test_data)\n",
    "savefile(predicred, \"1Linreg\")\n",
    "\n",
    "#score 0.109"
   ]
  },
  {
   "cell_type": "code",
   "execution_count": 163,
   "metadata": {},
   "outputs": [],
   "source": [
    "#Sorted\n",
    "    #decode\n",
    "feature_name=X.columns"
   ]
  },
  {
   "cell_type": "code",
   "execution_count": 167,
   "metadata": {},
   "outputs": [
    {
     "name": "stderr",
     "output_type": "stream",
     "text": [
      "C:\\Users\\Rhey\\AppData\\Local\\Temp\\ipykernel_7740\\1259356089.py:8: SettingWithCopyWarning: \n",
      "A value is trying to be set on a copy of a slice from a DataFrame\n",
      "\n",
      "See the caveats in the documentation: https://pandas.pydata.org/pandas-docs/stable/user_guide/indexing.html#returning-a-view-versus-a-copy\n",
      "  encodedtrain[i][encodedtrain[i]==j]=valueencoder[i][j]\n"
     ]
    }
   ],
   "source": [
    "#decoder\n",
    "encodedtrain=train.copy()\n",
    "encodedtest=test_data.copy()\n",
    "objectcolname=[]\n",
    "for i in feature_name:\n",
    "    try:\n",
    "        for j in encodedtrain[i].unique():\n",
    "            encodedtrain[i][encodedtrain[i]==j]=valueencoder[i][j]\n",
    "            encodedtest[i][encodedtest[i]==j]=encodedtest[i][j]\n",
    "        objectcolname.append(i)\n",
    "    except:\n",
    "        pass"
   ]
  },
  {
   "cell_type": "code",
   "execution_count": 168,
   "metadata": {},
   "outputs": [],
   "source": [
    "encodedtrain=encodedtrain.sort_values(by=\"UHH\", ascending=True)"
   ]
  },
  {
   "cell_type": "code",
   "execution_count": 169,
   "metadata": {},
   "outputs": [],
   "source": [
    "encoder=ce.OrdinalEncoder(cols=objectcolname)\n",
    "encoder.fit(encodedtrain)\n",
    "X=encoder.transform(encodedtrain)\n",
    "encodedtrain=encoder.transform(encodedtrain)"
   ]
  },
  {
   "cell_type": "code",
   "execution_count": 171,
   "metadata": {},
   "outputs": [],
   "source": [
    "X=encodedtrain\n",
    "y=X.pop(\"UHH\")"
   ]
  },
  {
   "cell_type": "code",
   "execution_count": 209,
   "metadata": {},
   "outputs": [
    {
     "name": "stdout",
     "output_type": "stream",
     "text": [
      "Train   :   0.11839029469381346\n",
      "Test    :   0.10169318837202457\n"
     ]
    }
   ],
   "source": [
    "train_data, validation_data, train_value, validation_value= train_test_split(X, y, train_size=0.8)\n",
    "model= LinearRegression().fit(train_data, train_value)\n",
    "\n",
    "print(f'Train   :   {r2_score(train_value, model.predict(train_data))}')\n",
    "print(f'Test    :   {r2_score(validation_value, model.predict(validation_data))}')"
   ]
  },
  {
   "cell_type": "markdown",
   "metadata": {},
   "source": [
    "Hilangkan Missing Value (Lebih buruk)"
   ]
  },
  {
   "cell_type": "code",
   "execution_count": 97,
   "metadata": {},
   "outputs": [],
   "source": [
    "for i in [9,99]:\n",
    "    test_data=test_data[test_data!=i].dropna(axis=0)\n",
    "    train=train[train!=i].dropna(axis=0)"
   ]
  },
  {
   "cell_type": "code",
   "execution_count": 98,
   "metadata": {},
   "outputs": [],
   "source": [
    "X=train.iloc[:,:-1]\n",
    "y=train.iloc[:,-1]"
   ]
  },
  {
   "cell_type": "code",
   "execution_count": 129,
   "metadata": {},
   "outputs": [
    {
     "name": "stdout",
     "output_type": "stream",
     "text": [
      "Train   :   0.2290547892645508\n",
      "Test    :   0.21097418728633577\n"
     ]
    }
   ],
   "source": [
    "train_data, validation_data, train_value, validation_value= train_test_split(X, y, train_size=0.8)\n",
    "model= LinearRegression().fit(train_data, train_value)\n",
    "\n",
    "print(f'Train   :   {r2_score(train_value, model.predict(train_data))}')\n",
    "print(f'Test    :   {r2_score(validation_value, model.predict(validation_data))}')"
   ]
  }
 ],
 "metadata": {
  "kernelspec": {
   "display_name": "Python 3",
   "language": "python",
   "name": "python3"
  },
  "language_info": {
   "codemirror_mode": {
    "name": "ipython",
    "version": 3
   },
   "file_extension": ".py",
   "mimetype": "text/x-python",
   "name": "python",
   "nbconvert_exporter": "python",
   "pygments_lexer": "ipython3",
   "version": "3.11.6"
  }
 },
 "nbformat": 4,
 "nbformat_minor": 2
}
