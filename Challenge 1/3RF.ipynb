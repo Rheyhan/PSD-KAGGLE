{
 "cells": [
  {
   "cell_type": "code",
   "execution_count": 73,
   "metadata": {},
   "outputs": [],
   "source": [
    "#load up modules\n",
    "import pandas as pd\n",
    "import numpy as np\n",
    "import matplotlib.pyplot as plt \n",
    "\n",
    "import pickle\n",
    "import os\n",
    "\n",
    "import category_encoders as ce\n",
    "\n",
    "from sklearn.metrics import r2_score\n",
    "from sklearn.ensemble import RandomForestRegressor\n",
    "from sklearn.model_selection import train_test_split\n",
    "\n",
    "from tqdm.notebook import tqdm"
   ]
  },
  {
   "cell_type": "code",
   "execution_count": 98,
   "metadata": {},
   "outputs": [],
   "source": [
    "#Get dir\n",
    "path=\"D:/Kuliah/Semester 5/PSD/psd-challenge/\"\n",
    "os.listdir(path)\n",
    "\n",
    "def savefile(result, savename):\n",
    "    try:\n",
    "        pd.DataFrame(zip(range(1,len(result)+1),result), columns=[\"No\", \"UHH\"]).to_csv(path+\"Kerja lah su/\"+savename+\".csv\", index=False)\n",
    "    except:\n",
    "        print(\"It only saves the result retard!\")"
   ]
  },
  {
   "cell_type": "code",
   "execution_count": 3,
   "metadata": {},
   "outputs": [],
   "source": [
    "#Get dataset                                #Gw baru nyadar train di split lagi?\n",
    "test_data=pd.read_excel(path+\"Test.xlsx\")\n",
    "train=pd.read_excel(path+\"Train.xlsx\")"
   ]
  },
  {
   "cell_type": "code",
   "execution_count": 4,
   "metadata": {},
   "outputs": [],
   "source": [
    "X=train.iloc[:,:-1]\n",
    "y=train.iloc[:,-1]"
   ]
  },
  {
   "cell_type": "code",
   "execution_count": 86,
   "metadata": {},
   "outputs": [
    {
     "data": {
      "application/vnd.jupyter.widget-view+json": {
       "model_id": "0a30fb05123f44fe8fbaa8026d2ef361",
       "version_major": 2,
       "version_minor": 0
      },
      "text/plain": [
       "loop:   0%|          | 0/5 [00:00<?, ?it/s]"
      ]
     },
     "metadata": {},
     "output_type": "display_data"
    },
    {
     "data": {
      "application/vnd.jupyter.widget-view+json": {
       "model_id": "61adf342f99f4d9e99506f5ebbc6431b",
       "version_major": 2,
       "version_minor": 0
      },
      "text/plain": [
       "  0%|          | 0/30 [00:00<?, ?it/s]"
      ]
     },
     "metadata": {},
     "output_type": "display_data"
    },
    {
     "data": {
      "application/vnd.jupyter.widget-view+json": {
       "model_id": "349918c7ba7d437e907b514403a39e44",
       "version_major": 2,
       "version_minor": 0
      },
      "text/plain": [
       "  0%|          | 0/30 [00:00<?, ?it/s]"
      ]
     },
     "metadata": {},
     "output_type": "display_data"
    },
    {
     "data": {
      "application/vnd.jupyter.widget-view+json": {
       "model_id": "0cb7aabee688426288b53344c1f9dbfe",
       "version_major": 2,
       "version_minor": 0
      },
      "text/plain": [
       "  0%|          | 0/30 [00:00<?, ?it/s]"
      ]
     },
     "metadata": {},
     "output_type": "display_data"
    },
    {
     "data": {
      "application/vnd.jupyter.widget-view+json": {
       "model_id": "5a29fd489f484c6aacdf6f80bccf5355",
       "version_major": 2,
       "version_minor": 0
      },
      "text/plain": [
       "  0%|          | 0/30 [00:00<?, ?it/s]"
      ]
     },
     "metadata": {},
     "output_type": "display_data"
    },
    {
     "data": {
      "application/vnd.jupyter.widget-view+json": {
       "model_id": "c0d1cb11f0044ce6893ba88420259125",
       "version_major": 2,
       "version_minor": 0
      },
      "text/plain": [
       "  0%|          | 0/30 [00:00<?, ?it/s]"
      ]
     },
     "metadata": {},
     "output_type": "display_data"
    }
   ],
   "source": [
    "score=[]\n",
    "val_Score=[]\n",
    "lalala=[]\n",
    "depth=range(1,31)\n",
    "\n",
    "#get best depth\n",
    "for j in tqdm(range(5), desc=\"loop\"):\n",
    "    train_data, validation_data, train_value, validation_value= train_test_split(X, y, train_size=0.8)\n",
    "    for i in tqdm(depth):\n",
    "        model = RandomForestRegressor(max_depth=i)\n",
    "        model.fit(train_data, train_value)\n",
    "\n",
    "        #metrics cuz fuck you\n",
    "        score.append(r2_score(train_value, model.predict(train_data)))\n",
    "        val_Score.append(r2_score(validation_value, model.predict(validation_data)))\n",
    "        temp=list(zip(depth, val_Score))\n",
    "    lalala.append(sorted(temp, key=lambda x:x[1], reverse=True))"
   ]
  },
  {
   "cell_type": "code",
   "execution_count": 92,
   "metadata": {},
   "outputs": [
    {
     "data": {
      "text/plain": [
       "[(9, 0.33219574890813897),\n",
       " (8, 0.3300925302268213),\n",
       " (7, 0.3296647069110613),\n",
       " (10, 0.3287263308594166),\n",
       " (6, 0.3248985618072847),\n",
       " (11, 0.32486829935690587),\n",
       " (12, 0.3224632875253697),\n",
       " (5, 0.31862989268248043),\n",
       " (14, 0.3140141492974968),\n",
       " (13, 0.3132416923481537),\n",
       " (4, 0.312954832417199),\n",
       " (15, 0.30099455368342054),\n",
       " (3, 0.2892473303761889),\n",
       " (16, 0.2852517660695246),\n",
       " (17, 0.27908365776903576),\n",
       " (18, 0.2644922086515006),\n",
       " (19, 0.2592787590860878),\n",
       " (20, 0.2508939078323479),\n",
       " (21, 0.24823034021347956),\n",
       " (2, 0.2463491503755837),\n",
       " (22, 0.24021625667785107),\n",
       " (23, 0.23940057424796857),\n",
       " (24, 0.23283437605416757),\n",
       " (26, 0.2282121771574257),\n",
       " (28, 0.22799984802442497),\n",
       " (30, 0.22678918551100957),\n",
       " (27, 0.225785211950579),\n",
       " (25, 0.224819726856762),\n",
       " (29, 0.22459099322993403),\n",
       " (1, 0.18833835817418854)]"
      ]
     },
     "execution_count": 92,
     "metadata": {},
     "output_type": "execute_result"
    }
   ],
   "source": [
    "lalala[-1]"
   ]
  },
  {
   "cell_type": "code",
   "execution_count": 94,
   "metadata": {},
   "outputs": [],
   "source": [
    "model = RandomForestRegressor(max_depth=9)\n",
    "model.fit(X, y)\n",
    "predicted=model.predict(test_data)"
   ]
  },
  {
   "cell_type": "code",
   "execution_count": 99,
   "metadata": {},
   "outputs": [],
   "source": [
    "savefile(predicted, \"3rf\")          #0.178 score. Higher than the last previous!"
   ]
  }
 ],
 "metadata": {
  "kernelspec": {
   "display_name": "Python 3",
   "language": "python",
   "name": "python3"
  },
  "language_info": {
   "codemirror_mode": {
    "name": "ipython",
    "version": 3
   },
   "file_extension": ".py",
   "mimetype": "text/x-python",
   "name": "python",
   "nbconvert_exporter": "python",
   "pygments_lexer": "ipython3",
   "version": "3.11.6"
  }
 },
 "nbformat": 4,
 "nbformat_minor": 2
}
